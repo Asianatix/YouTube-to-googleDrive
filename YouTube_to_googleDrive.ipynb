{
  "nbformat": 4,
  "nbformat_minor": 0,
  "metadata": {
    "colab": {
      "name": "YouTube to googleDrive",
      "provenance": []
    },
    "kernelspec": {
      "name": "python3",
      "display_name": "Python 3"
    }
  },
  "cells": [
    {
      "cell_type": "markdown",
      "metadata": {
        "id": "LEjryKde9sl9",
        "colab_type": "text"
      },
      "source": [
        "##**This project is based on pytube3 and ffmpeg-python which allows you to download videos from youtube directly to your Google Drive**\n",
        "\n",
        "**Make sure that you have enough space on your Google Drive**\n",
        "\n",
        "**Sometimes some Downloads will give you error because of copyrighted content. Redownloading them will solve the problem (This is becuse YouTube recently changed their content delivery and not because of the pytube)**\n"
      ]
    },
    {
      "cell_type": "markdown",
      "metadata": {
        "id": "LUxf31fZ9f6H",
        "colab_type": "text"
      },
      "source": [
        "#**Installing required libraries**"
      ]
    },
    {
      "cell_type": "code",
      "metadata": {
        "id": "-uYa-cqjTSiq",
        "colab_type": "code",
        "colab": {}
      },
      "source": [
        "!pip3 install pytube3 --upgrade\n",
        "!pip3 install ffmpeg-python"
      ],
      "execution_count": 0,
      "outputs": []
    },
    {
      "cell_type": "markdown",
      "metadata": {
        "id": "yKgQBYyZ9Tmn",
        "colab_type": "text"
      },
      "source": [
        "#**Mount Google Drive**\n",
        "\n",
        "If you are downloading videos to your drive again remove this line from the following block or un-comment it.\n",
        "\n",
        "\n",
        "```\n",
        "os.mkdir('/content/drive/My Drive/YouTube/')\n",
        "```\n"
      ]
    },
    {
      "cell_type": "code",
      "metadata": {
        "id": "ugX_Xjul9aC_",
        "colab_type": "code",
        "colab": {}
      },
      "source": [
        "from google.colab import drive\n",
        "drive.mount('/content/drive')\n",
        "import os\n",
        "os.mkdir('/content/drive/My Drive/YouTube/')"
      ],
      "execution_count": 0,
      "outputs": []
    },
    {
      "cell_type": "markdown",
      "metadata": {
        "id": "QgT-vU3T8m5V",
        "colab_type": "text"
      },
      "source": [
        "#**Use the followong block to download a Playlist.**\n",
        "\n"
      ]
    },
    {
      "cell_type": "code",
      "metadata": {
        "id": "Zoj9SPUp2JRy",
        "colab_type": "code",
        "colab": {}
      },
      "source": [
        "from pytube import YouTube, Playlist\n",
        "import time, ffmpeg, glob, os\n",
        "\n",
        "mylist=[]\n",
        "url=input('Enter Playlist URL: ')\n",
        "playlist = Playlist(url)\n",
        "print('Number of videos in playlist: %s' % len(playlist.video_urls))\n",
        "for video_url in playlist.video_urls:\n",
        "    mylist.append(video_url)\n",
        "a=0\n",
        "drive_path='/content/drive/My Drive/YouTube/'\n",
        "for i in range(len(mylist)):\n",
        "  yt = YouTube(mylist[a])\n",
        "  name=yt.title\n",
        "  print('Downloading... '+name)\n",
        "  stream=yt.streams.order_by('resolution')\n",
        "  d=len(yt.streams.order_by('resolution'))\n",
        "  d=d-1\n",
        "  stream[d].download('/content/YouTube/video/')\n",
        "  stream = yt.streams.get_by_itag(140)\n",
        "  stream.download(\"/content/YouTube/audio/\")\n",
        "  print('Downloaded')\n",
        "  print('Now Muxing...')\n",
        "  \n",
        "  videoname=[]\n",
        "  videoname.append(glob.glob(\"/content/YouTube/video/*.*\"))\n",
        "  videodata=videoname[0]\n",
        "\n",
        "  l=0\n",
        "  for u in range(len(videodata)):\n",
        "    name=videodata[l]\n",
        "    name=name[23:-5]\n",
        "    download_path=drive_path+name\n",
        "    video_path=\"/content/YouTube/video/\"+name+\".webm\"\n",
        "    audio_path=\"/content/YouTube/audio/\"+name+\".mp4\"\n",
        "    input_video = ffmpeg.input(video_path)\n",
        "    input_audio = ffmpeg.input(audio_path)\n",
        "    (\n",
        "        ffmpeg\n",
        "        .output(input_video.video, input_audio, download_path+'.mp4', shortest=None, vcodec='copy')\n",
        "        .overwrite_output()\n",
        "        .run()\n",
        "    )\n",
        "    os.remove(audio_path)\n",
        "    os.remove(video_path)\n",
        "    l=l+1\n",
        "    print('Muxed.')\n",
        "    print(name+ ' Successfully Downloaded')\n",
        "  a=a+1\n",
        "  m=len(mylist)-a\n",
        "  if m>0:\n",
        "    print('Remaining:',m)\n",
        "  time.sleep(1)\n",
        "\n",
        "print('done')"
      ],
      "execution_count": 0,
      "outputs": []
    },
    {
      "cell_type": "markdown",
      "metadata": {
        "id": "ezVV0ntL8fS9",
        "colab_type": "text"
      },
      "source": [
        "# **Use the following block to download a Single Video**"
      ]
    },
    {
      "cell_type": "code",
      "metadata": {
        "id": "Xkb3PWBR5Wd4",
        "colab_type": "code",
        "colab": {}
      },
      "source": [
        "from pytube import YouTube\n",
        "import ffmpeg, glob, os\n",
        "\n",
        "url=input('Enter Video URL: ')\n",
        "yt = YouTube(url)\n",
        "drivepath='/content/drive/My Drive/YouTube/'\n",
        "name=yt.title\n",
        "print('Downloading... '+name)\n",
        "stream=yt.streams.order_by('resolution')\n",
        "d=len(yt.streams.order_by('resolution'))\n",
        "d=d-1\n",
        "stream[d].download('/content/YouTube/video/')\n",
        "stream = yt.streams.get_by_itag(140)\n",
        "stream.download(\"/content/YouTube/audio/\")\n",
        "print('Downloaded')\n",
        "print('Now Muxing...')\n",
        "videoname=[]\n",
        "videoname.append(glob.glob(\"/content/YouTube/video/*.*\"))\n",
        "videodata=videoname[0]\n",
        "\n",
        "l=0\n",
        "for u in range(len(videodata)):\n",
        "  name=videodata[l]\n",
        "  name=name[23:-5]\n",
        "  download_path=drive_path+name\n",
        "  video_path=\"/content/YouTube/video/\"+name+\".webm\"\n",
        "  audio_path=\"/content/YouTube/audio/\"+name+\".mp4\"\n",
        "  input_video = ffmpeg.input(video_path)\n",
        "  input_audio = ffmpeg.input(audio_path)\n",
        "  (\n",
        "      ffmpeg\n",
        "      .output(input_video.video, input_audio, download_path+'.mp4', shortest=None, vcodec='copy')\n",
        "      .overwrite_output()\n",
        "      .run()\n",
        "  )\n",
        "  os.remove(audio_path)\n",
        "  os.remove(video_path)\n",
        "  l=l+1\n",
        "  print('Muxed.')\n",
        "  print(name+ ' Successfully Downloaded')"
      ],
      "execution_count": 0,
      "outputs": []
    }
  ]
}